{
 "cells": [
  {
   "cell_type": "code",
   "execution_count": 612,
   "metadata": {},
   "outputs": [],
   "source": [
    "import numpy as np\n",
    "import pandas as pd\n",
    "import matplotlib.pyplot as plt\n",
    "import seaborn as sns\n",
    "from sklearn.preprocessing import MinMaxScaler\n",
    "from sklearn.preprocessing import StandardScaler\n",
    "from sklearn.preprocessing import LabelEncoder\n",
    "from sklearn.feature_selection import SelectFromModel\n",
    "from sklearn.model_selection import StratifiedKFold, GridSearchCV\n",
    "import xgboost\n",
    "\n",
    "import datetime\n",
    "from sklearn import preprocessing\n",
    "sns.set()\n",
    "\n",
    "train = pd.read_csv('./dataset/train.csv')\n",
    "test = pd.read_csv('./dataset/test.csv')\n",
    "\n",
    "# train.info()"
   ]
  },
  {
   "cell_type": "code",
   "execution_count": 613,
   "metadata": {},
   "outputs": [],
   "source": [
    "from datetime import datetime\n",
    "train['date'] = pd.to_datetime(train['date'],format='%m/%d/%Y')\n",
    "# train['month'] = train['date'].dt.month\n",
    "# train['dayofweek'] = train['date'].dt.dayofweek\n",
    "# train['year'] = train['date'].dt.year\n",
    "# train['day'] = train['date'].dt.day\n",
    "# train['dayofyear'] = train['date'].dt.dayofyear\n",
    "# train['weekofyear'] = train['date'].dt.weekofyear\n",
    "\n",
    "train.drop(['date'], axis=1, inplace=True) "
   ]
  },
  {
   "cell_type": "code",
   "execution_count": 614,
   "metadata": {},
   "outputs": [
    {
     "data": {
      "text/plain": [
       "Id                     0\n",
       "game_seq               0\n",
       "season_end             0\n",
       "season_game_seq        0\n",
       "playoff                0\n",
       "team_id                0\n",
       "Elo                 9197\n",
       "opp_team_id            0\n",
       "opp_Elo             7006\n",
       "win_equivalent     12263\n",
       "bet_ratio              0\n",
       "home_crowd             0\n",
       "opp_crowd              0\n",
       "total_crowd            0\n",
       "game_result            0\n",
       "dayofweek              0\n",
       "dtype: int64"
      ]
     },
     "execution_count": 614,
     "metadata": {},
     "output_type": "execute_result"
    }
   ],
   "source": [
    "train.isnull().sum()"
   ]
  },
  {
   "cell_type": "code",
   "execution_count": 615,
   "metadata": {},
   "outputs": [],
   "source": [
    "# g = sns.FacetGrid(train, col='game_result')\n",
    "# g.map(plt.hist, 'Elo', bins=20)\n",
    "\n",
    "# g = sns.FacetGrid(train, col='game_result')\n",
    "# g.map(plt.hist, 'opp_Elo', bins=20)\n",
    "\n",
    "# g = sns.FacetGrid(train, col='game_result')\n",
    "# g.map(plt.hist, 'total_crowd', bins=20)\n",
    "\n"
   ]
  },
  {
   "cell_type": "code",
   "execution_count": 616,
   "metadata": {},
   "outputs": [],
   "source": [
    "# train = pd.concat([train,pd.get_dummies(train['team_id'], prefix='team_id',dummy_na=False)],axis=1)\n",
    "# train = pd.concat([train,pd.get_dummies(train['opp_team_id'], prefix='opp_team_id',dummy_na=False)],axis=1)\n",
    "\n",
    "# train['team_id'] = train['team_id'].str.extract('(\\\\d+)', expand=True)\n",
    "# train['opp_team_id'] = train['opp_team_id'].str.extract('(\\\\d+)', expand=True)"
   ]
  },
  {
   "cell_type": "code",
   "execution_count": 617,
   "metadata": {},
   "outputs": [
    {
     "data": {
      "text/plain": [
       "count    45000.000000\n",
       "mean         0.620817\n",
       "std          0.179129\n",
       "min          0.062616\n",
       "25%          0.498105\n",
       "50%          0.639796\n",
       "75%          0.760660\n",
       "max          0.979553\n",
       "Name: bet_ratio, dtype: float64"
      ]
     },
     "execution_count": 617,
     "metadata": {},
     "output_type": "execute_result"
    }
   ],
   "source": [
    "train['bet_ratio'].describe()\n"
   ]
  },
  {
   "cell_type": "code",
   "execution_count": 618,
   "metadata": {},
   "outputs": [],
   "source": [
    "train['Elo'].fillna(train.groupby('team_id')['Elo'].transform('mean'), inplace=True)\n",
    "train['opp_Elo'].fillna(train.groupby('opp_team_id')['opp_Elo'].transform('mean'), inplace=True)\n",
    "# train['win_equivalent'].fillna((train['win_equivalent'].mean()), inplace=True)\n",
    "train['win_equivalent'].fillna(train.groupby('season_end')['win_equivalent'].transform('mean'), inplace=True)\n",
    "\n",
    "train = train.dropna(axis = 0, how ='any')\n"
   ]
  },
  {
   "cell_type": "code",
   "execution_count": null,
   "metadata": {},
   "outputs": [],
   "source": []
  },
  {
   "cell_type": "code",
   "execution_count": 619,
   "metadata": {},
   "outputs": [],
   "source": [
    "\n",
    "\n",
    "train.drop(['Id'], axis=1, inplace=True)\n",
    "train.drop(['game_seq'], axis=1, inplace=True)  \n",
    "# train.drop(['season_end'], axis=1, inplace=True)        \n",
    "train.drop(['season_game_seq'], axis=1, inplace=True) \n",
    "# train.drop(['playoff'], axis=1, inplace=True)\n",
    "# train.drop(['team_id'], axis=1, inplace=True) \n",
    "# train.drop(['Elo'], axis=1, inplace=True)\n",
    "# train.drop(['opp_team_id'], axis=1, inplace=True)\n",
    "# train.drop(['opp_Elo'], axis=1, inplace=True) \n",
    "# train.drop(['win_equivalent'], axis=1, inplace=True) \n",
    "# train.drop(['bet_ratio'], axis=1, inplace=True) \n",
    "train.drop(['home_crowd'], axis=1, inplace=True) \n",
    "train.drop(['opp_crowd'], axis=1, inplace=True) \n",
    "train.drop(['total_crowd'], axis=1, inplace=True) "
   ]
  },
  {
   "cell_type": "code",
   "execution_count": 620,
   "metadata": {},
   "outputs": [],
   "source": [
    "# train['ratio']=train.Elo/train.opp_Elo"
   ]
  },
  {
   "cell_type": "code",
   "execution_count": 621,
   "metadata": {},
   "outputs": [],
   "source": [
    "labelencoder = LabelEncoder()\n",
    "train['playoff'] = labelencoder.fit_transform(train['playoff'])\n",
    "train['team_id'] = labelencoder.fit_transform(train['team_id'])\n",
    "train['opp_team_id'] = labelencoder.fit_transform(train['opp_team_id'])"
   ]
  },
  {
   "cell_type": "code",
   "execution_count": 622,
   "metadata": {},
   "outputs": [],
   "source": [
    "# train['ratio'].unique()"
   ]
  },
  {
   "cell_type": "code",
   "execution_count": 623,
   "metadata": {},
   "outputs": [],
   "source": [
    "# train.head()"
   ]
  },
  {
   "cell_type": "code",
   "execution_count": 624,
   "metadata": {},
   "outputs": [
    {
     "data": {
      "text/html": [
       "<div>\n",
       "<style scoped>\n",
       "    .dataframe tbody tr th:only-of-type {\n",
       "        vertical-align: middle;\n",
       "    }\n",
       "\n",
       "    .dataframe tbody tr th {\n",
       "        vertical-align: top;\n",
       "    }\n",
       "\n",
       "    .dataframe thead th {\n",
       "        text-align: right;\n",
       "    }\n",
       "</style>\n",
       "<table border=\"1\" class=\"dataframe\">\n",
       "  <thead>\n",
       "    <tr style=\"text-align: right;\">\n",
       "      <th></th>\n",
       "      <th>season_end</th>\n",
       "      <th>playoff</th>\n",
       "      <th>team_id</th>\n",
       "      <th>Elo</th>\n",
       "      <th>opp_team_id</th>\n",
       "      <th>opp_Elo</th>\n",
       "      <th>win_equivalent</th>\n",
       "      <th>bet_ratio</th>\n",
       "      <th>game_result</th>\n",
       "      <th>dayofweek</th>\n",
       "    </tr>\n",
       "  </thead>\n",
       "  <tbody>\n",
       "    <tr>\n",
       "      <td>season_end</td>\n",
       "      <td>1.000000</td>\n",
       "      <td>-0.010273</td>\n",
       "      <td>-0.109142</td>\n",
       "      <td>0.050408</td>\n",
       "      <td>-0.113791</td>\n",
       "      <td>0.031495</td>\n",
       "      <td>0.001152</td>\n",
       "      <td>0.003608</td>\n",
       "      <td>0.023067</td>\n",
       "      <td>-0.104228</td>\n",
       "    </tr>\n",
       "    <tr>\n",
       "      <td>playoff</td>\n",
       "      <td>-0.010273</td>\n",
       "      <td>1.000000</td>\n",
       "      <td>-0.011371</td>\n",
       "      <td>0.225631</td>\n",
       "      <td>-0.009230</td>\n",
       "      <td>0.210555</td>\n",
       "      <td>0.214491</td>\n",
       "      <td>0.027754</td>\n",
       "      <td>-0.022203</td>\n",
       "      <td>0.024046</td>\n",
       "    </tr>\n",
       "    <tr>\n",
       "      <td>team_id</td>\n",
       "      <td>-0.109142</td>\n",
       "      <td>-0.011371</td>\n",
       "      <td>1.000000</td>\n",
       "      <td>-0.051120</td>\n",
       "      <td>0.013627</td>\n",
       "      <td>-0.019877</td>\n",
       "      <td>-0.016495</td>\n",
       "      <td>-0.018998</td>\n",
       "      <td>0.000437</td>\n",
       "      <td>0.024354</td>\n",
       "    </tr>\n",
       "    <tr>\n",
       "      <td>Elo</td>\n",
       "      <td>0.050408</td>\n",
       "      <td>0.225631</td>\n",
       "      <td>-0.051120</td>\n",
       "      <td>1.000000</td>\n",
       "      <td>-0.019421</td>\n",
       "      <td>0.044649</td>\n",
       "      <td>0.759139</td>\n",
       "      <td>0.631832</td>\n",
       "      <td>-0.245587</td>\n",
       "      <td>0.024672</td>\n",
       "    </tr>\n",
       "    <tr>\n",
       "      <td>opp_team_id</td>\n",
       "      <td>-0.113791</td>\n",
       "      <td>-0.009230</td>\n",
       "      <td>0.013627</td>\n",
       "      <td>-0.019421</td>\n",
       "      <td>1.000000</td>\n",
       "      <td>-0.038715</td>\n",
       "      <td>0.007191</td>\n",
       "      <td>0.017018</td>\n",
       "      <td>-0.014849</td>\n",
       "      <td>0.008370</td>\n",
       "    </tr>\n",
       "    <tr>\n",
       "      <td>opp_Elo</td>\n",
       "      <td>0.031495</td>\n",
       "      <td>0.210555</td>\n",
       "      <td>-0.019877</td>\n",
       "      <td>0.044649</td>\n",
       "      <td>-0.038715</td>\n",
       "      <td>1.000000</td>\n",
       "      <td>0.016493</td>\n",
       "      <td>-0.625731</td>\n",
       "      <td>0.218668</td>\n",
       "      <td>0.001504</td>\n",
       "    </tr>\n",
       "    <tr>\n",
       "      <td>win_equivalent</td>\n",
       "      <td>0.001152</td>\n",
       "      <td>0.214491</td>\n",
       "      <td>-0.016495</td>\n",
       "      <td>0.759139</td>\n",
       "      <td>0.007191</td>\n",
       "      <td>0.016493</td>\n",
       "      <td>1.000000</td>\n",
       "      <td>0.596126</td>\n",
       "      <td>-0.297090</td>\n",
       "      <td>0.025625</td>\n",
       "    </tr>\n",
       "    <tr>\n",
       "      <td>bet_ratio</td>\n",
       "      <td>0.003608</td>\n",
       "      <td>0.027754</td>\n",
       "      <td>-0.018998</td>\n",
       "      <td>0.631832</td>\n",
       "      <td>0.017018</td>\n",
       "      <td>-0.625731</td>\n",
       "      <td>0.596126</td>\n",
       "      <td>1.000000</td>\n",
       "      <td>-0.367198</td>\n",
       "      <td>0.017329</td>\n",
       "    </tr>\n",
       "    <tr>\n",
       "      <td>game_result</td>\n",
       "      <td>0.023067</td>\n",
       "      <td>-0.022203</td>\n",
       "      <td>0.000437</td>\n",
       "      <td>-0.245587</td>\n",
       "      <td>-0.014849</td>\n",
       "      <td>0.218668</td>\n",
       "      <td>-0.297090</td>\n",
       "      <td>-0.367198</td>\n",
       "      <td>1.000000</td>\n",
       "      <td>-0.015497</td>\n",
       "    </tr>\n",
       "    <tr>\n",
       "      <td>dayofweek</td>\n",
       "      <td>-0.104228</td>\n",
       "      <td>0.024046</td>\n",
       "      <td>0.024354</td>\n",
       "      <td>0.024672</td>\n",
       "      <td>0.008370</td>\n",
       "      <td>0.001504</td>\n",
       "      <td>0.025625</td>\n",
       "      <td>0.017329</td>\n",
       "      <td>-0.015497</td>\n",
       "      <td>1.000000</td>\n",
       "    </tr>\n",
       "  </tbody>\n",
       "</table>\n",
       "</div>"
      ],
      "text/plain": [
       "                season_end   playoff   team_id       Elo  opp_team_id  \\\n",
       "season_end        1.000000 -0.010273 -0.109142  0.050408    -0.113791   \n",
       "playoff          -0.010273  1.000000 -0.011371  0.225631    -0.009230   \n",
       "team_id          -0.109142 -0.011371  1.000000 -0.051120     0.013627   \n",
       "Elo               0.050408  0.225631 -0.051120  1.000000    -0.019421   \n",
       "opp_team_id      -0.113791 -0.009230  0.013627 -0.019421     1.000000   \n",
       "opp_Elo           0.031495  0.210555 -0.019877  0.044649    -0.038715   \n",
       "win_equivalent    0.001152  0.214491 -0.016495  0.759139     0.007191   \n",
       "bet_ratio         0.003608  0.027754 -0.018998  0.631832     0.017018   \n",
       "game_result       0.023067 -0.022203  0.000437 -0.245587    -0.014849   \n",
       "dayofweek        -0.104228  0.024046  0.024354  0.024672     0.008370   \n",
       "\n",
       "                 opp_Elo  win_equivalent  bet_ratio  game_result  dayofweek  \n",
       "season_end      0.031495        0.001152   0.003608     0.023067  -0.104228  \n",
       "playoff         0.210555        0.214491   0.027754    -0.022203   0.024046  \n",
       "team_id        -0.019877       -0.016495  -0.018998     0.000437   0.024354  \n",
       "Elo             0.044649        0.759139   0.631832    -0.245587   0.024672  \n",
       "opp_team_id    -0.038715        0.007191   0.017018    -0.014849   0.008370  \n",
       "opp_Elo         1.000000        0.016493  -0.625731     0.218668   0.001504  \n",
       "win_equivalent  0.016493        1.000000   0.596126    -0.297090   0.025625  \n",
       "bet_ratio      -0.625731        0.596126   1.000000    -0.367198   0.017329  \n",
       "game_result     0.218668       -0.297090  -0.367198     1.000000  -0.015497  \n",
       "dayofweek       0.001504        0.025625   0.017329    -0.015497   1.000000  "
      ]
     },
     "execution_count": 624,
     "metadata": {},
     "output_type": "execute_result"
    }
   ],
   "source": [
    "train.corr()"
   ]
  },
  {
   "cell_type": "code",
   "execution_count": 625,
   "metadata": {},
   "outputs": [],
   "source": [
    "y = train[\"game_result\"]\n",
    "X = train.drop([\"game_result\"],axis=1)\n",
    "\n",
    "# scaler=MinMaxScaler()\n",
    "# X = scaler.fit_transform(X)"
   ]
  },
  {
   "cell_type": "code",
   "execution_count": 626,
   "metadata": {},
   "outputs": [],
   "source": [
    "from sklearn.model_selection import train_test_split \n",
    "\n",
    "x_train , x_test, y_train, y_test = train_test_split(X,y,test_size=0.2,random_state=42)"
   ]
  },
  {
   "cell_type": "code",
   "execution_count": 627,
   "metadata": {},
   "outputs": [],
   "source": [
    "# scaler=StandardScaler()\n",
    "# X_train = scaler.fit_transform(x_train)\n",
    "# X_test = scaler.transform(x_test)\n",
    "X_train = x_train\n",
    "X_test = x_test"
   ]
  },
  {
   "cell_type": "code",
   "execution_count": 628,
   "metadata": {},
   "outputs": [],
   "source": [
    "# from sklearn.ensemble import RandomForestClassifier\n",
    "# lr = RandomForestClassifier(bootstrap=True, n_estimators= 100)\n",
    "\n",
    "# lr.fit(X_train,y_train)\n",
    "\n",
    "# from sklearn.neighbors import KNeighborsClassifier\n",
    "# lr = KNeighborsClassifier(n_neighbors=5)\n",
    "# lr.fit(X_train, y_train)\n",
    "\n",
    "# from sklearn.linear_model import LogisticRegression\n",
    "# lr = LogisticRegression()\n",
    "# lr.fit(X_train, y_train)\n",
    "\n",
    "# from sklearn import svm\n",
    "# lr = svm.SVC(kernel='linear') \n",
    "# lr.fit(X_train, y_train)\n",
    "\n",
    "lr = xgboost.XGBClassifier(random_state = 1, max_depth = 15,n_estimators = 10, min_samples_split = 2, min_samples_leaf = 1)\n",
    "lr=lr.fit(X_train, y_train)"
   ]
  },
  {
   "cell_type": "code",
   "execution_count": 629,
   "metadata": {},
   "outputs": [],
   "source": [
    "# feature_importances = pd.DataFrame(lr.feature_importances_,\n",
    "#                                    index = X_train.columns,\n",
    "#                                     columns=['importance']).sort_values('importance',ascending=False)\n",
    "# feature_importances"
   ]
  },
  {
   "cell_type": "code",
   "execution_count": 630,
   "metadata": {},
   "outputs": [],
   "source": [
    "run_gs = False\n",
    "\n",
    "if run_gs:\n",
    "    parameter_grid = {\n",
    "                 'max_depth' : [4, 6, 8],\n",
    "                 'n_estimators': [50, 10, 20],\n",
    "                 'max_features': ['sqrt', 'auto', 'log2'],\n",
    "                 'min_samples_split': [2, 3, 10],\n",
    "                 'min_samples_leaf': [1, 3, 10],\n",
    "                 'bootstrap': [True, False],\n",
    "                 }\n",
    "    forest = RandomForestClassifier()\n",
    "    cross_validation = StratifiedKFold(n_splits=1)\n",
    "\n",
    "    grid_search = GridSearchCV(forest,\n",
    "                               scoring='accuracy',\n",
    "                               param_grid=parameter_grid,\n",
    "                               cv=cross_validation,\n",
    "                               verbose=1,\n",
    "                               n_jobs=-1\n",
    "                              )\n",
    "\n",
    "    grid_search.fit(X_train, y_train)\n",
    "    model = grid_search\n",
    "    parameters = grid_search.best_params_\n",
    "\n",
    "    print('Best score: {}'.format(grid_search.best_score_))\n",
    "    print('Best parameters: {}'.format(grid_search.best_params_))\n",
    "    \n"
   ]
  },
  {
   "cell_type": "code",
   "execution_count": 631,
   "metadata": {},
   "outputs": [
    {
     "name": "stdout",
     "output_type": "stream",
     "text": [
      "R2 score: 0.04667065120462266\n",
      "MAE: 0.22188888888888889\n",
      "MSE: 0.22188888888888889\n",
      "LMSE: 0.10660718542162757\n",
      "RMSE: 0.4710508347183867\n",
      "LRMSE: 0.32650755798545855\n"
     ]
    }
   ],
   "source": [
    "from sklearn.metrics import mean_squared_error\n",
    "from sklearn.metrics import mean_absolute_error\n",
    "from sklearn.metrics import mean_squared_log_error,r2_score\n",
    "y_pred= lr.predict(X_test)\n",
    "r2 = r2_score(y_test, y_pred)\n",
    "mae = mean_absolute_error(y_test, y_pred)\n",
    "mse = mean_squared_error(y_test, y_pred)\n",
    "lmse = mean_squared_log_error(y_test, y_pred)\n",
    "rmse = np.sqrt(mse)\n",
    "lrmse = np.sqrt(lmse)\n",
    "print(\"R2 score:\", r2)\n",
    "print(\"MAE:\", mae)\n",
    "print(\"MSE:\", mse)\n",
    "print(\"LMSE:\", lmse)\n",
    "print(\"RMSE:\", rmse)\n",
    "print(\"LRMSE:\", lrmse)"
   ]
  },
  {
   "cell_type": "code",
   "execution_count": 632,
   "metadata": {},
   "outputs": [],
   "source": [
    "from datetime import datetime\n",
    "test['date'] = pd.to_datetime(test['date'],format='%m/%d/%Y')\n",
    "# test['month'] = test['date'].dt.month\n",
    "test['dayofweek'] = test['date'].dt.dayofweek\n",
    "# test['year'] = test['date'].dt.year\n",
    "# test['day'] = test['date'].dt.day\n",
    "# test['dayofyear'] = test['date'].dt.dayofyear\n",
    "# test['weekofyear'] = test['date'].dt.weekofyear\n",
    "\n",
    "test.drop(['date'], axis=1, inplace=True) "
   ]
  },
  {
   "cell_type": "code",
   "execution_count": 633,
   "metadata": {},
   "outputs": [],
   "source": [
    "# test = pd.concat([test,pd.get_dummies(test['team_id'], prefix='team_id',dummy_na=False)],axis=1)\n",
    "# test = pd.concat([test,pd.get_dummies(test['opp_team_id'], prefix='opp_team_id',dummy_na=False)],axis=1)"
   ]
  },
  {
   "cell_type": "code",
   "execution_count": 634,
   "metadata": {},
   "outputs": [],
   "source": [
    "# test['team_id'] = test['team_id'].str.extract('(\\\\d+)', expand=True)\n",
    "# test['opp_team_id'] = test['opp_team_id'].str.extract('(\\\\d+)', expand=True)"
   ]
  },
  {
   "cell_type": "code",
   "execution_count": 635,
   "metadata": {},
   "outputs": [],
   "source": [
    "test['Elo'].fillna(test.groupby('team_id')['Elo'].transform('mean'), inplace=True)\n",
    "test['opp_Elo'].fillna(test.groupby('opp_team_id')['opp_Elo'].transform('mean'), inplace=True)\n",
    "# test['win_equivalent'].fillna((test['win_equivalent'].mean()), inplace=True)\n",
    "test['win_equivalent'].fillna(test.groupby('season_end')['win_equivalent'].transform('mean'), inplace=True)"
   ]
  },
  {
   "cell_type": "code",
   "execution_count": 636,
   "metadata": {},
   "outputs": [],
   "source": [
    "# test['ratio']=test.Elo/test.opp_Elo"
   ]
  },
  {
   "cell_type": "code",
   "execution_count": 637,
   "metadata": {},
   "outputs": [],
   "source": [
    "Id = test['Id']\n",
    "\n",
    "test.drop(['Id'], axis=1, inplace=True)\n",
    "test.drop(['game_seq'], axis=1, inplace=True)  \n",
    "# test.drop(['season_end'], axis=1, inplace=True)        \n",
    "test.drop(['season_game_seq'], axis=1, inplace=True) \n",
    "# test.drop(['playoff'], axis=1, inplace=True)\n",
    "# test.drop(['team_id'], axis=1, inplace=True) \n",
    "# test.drop(['Elo'], axis=1, inplace=True)\n",
    "# test.drop(['opp_team_id'], axis=1, inplace=True)\n",
    "# test.drop(['opp_Elo'], axis=1, inplace=True) \n",
    "# test.drop(['win_equivalent'], axis=1, inplace=True) \n",
    "# test.drop(['bet_ratio'], axis=1, inplace=True) \n",
    "test.drop(['home_crowd'], axis=1, inplace=True) \n",
    "test.drop(['opp_crowd'], axis=1, inplace=True) \n",
    "test.drop(['total_crowd'], axis=1, inplace=True) "
   ]
  },
  {
   "cell_type": "code",
   "execution_count": 638,
   "metadata": {},
   "outputs": [],
   "source": [
    "labelencoder = LabelEncoder()\n",
    "test['playoff'] = labelencoder.fit_transform(test['playoff'])\n",
    "test['team_id'] = labelencoder.fit_transform(test['team_id'])\n",
    "test['opp_team_id'] = labelencoder.fit_transform(test['opp_team_id'])"
   ]
  },
  {
   "cell_type": "code",
   "execution_count": 639,
   "metadata": {},
   "outputs": [
    {
     "data": {
      "text/html": [
       "<div>\n",
       "<style scoped>\n",
       "    .dataframe tbody tr th:only-of-type {\n",
       "        vertical-align: middle;\n",
       "    }\n",
       "\n",
       "    .dataframe tbody tr th {\n",
       "        vertical-align: top;\n",
       "    }\n",
       "\n",
       "    .dataframe thead th {\n",
       "        text-align: right;\n",
       "    }\n",
       "</style>\n",
       "<table border=\"1\" class=\"dataframe\">\n",
       "  <thead>\n",
       "    <tr style=\"text-align: right;\">\n",
       "      <th></th>\n",
       "      <th>season_end</th>\n",
       "      <th>playoff</th>\n",
       "      <th>team_id</th>\n",
       "      <th>Elo</th>\n",
       "      <th>opp_team_id</th>\n",
       "      <th>opp_Elo</th>\n",
       "      <th>win_equivalent</th>\n",
       "      <th>bet_ratio</th>\n",
       "      <th>dayofweek</th>\n",
       "    </tr>\n",
       "  </thead>\n",
       "  <tbody>\n",
       "    <tr>\n",
       "      <td>0</td>\n",
       "      <td>2006</td>\n",
       "      <td>0</td>\n",
       "      <td>6</td>\n",
       "      <td>1452.0272</td>\n",
       "      <td>4</td>\n",
       "      <td>1467.3956</td>\n",
       "      <td>36.577610</td>\n",
       "      <td>0.619442</td>\n",
       "      <td>2</td>\n",
       "    </tr>\n",
       "    <tr>\n",
       "      <td>1</td>\n",
       "      <td>2015</td>\n",
       "      <td>0</td>\n",
       "      <td>7</td>\n",
       "      <td>1498.2162</td>\n",
       "      <td>1</td>\n",
       "      <td>1283.8668</td>\n",
       "      <td>40.762897</td>\n",
       "      <td>0.859306</td>\n",
       "      <td>2</td>\n",
       "    </tr>\n",
       "    <tr>\n",
       "      <td>2</td>\n",
       "      <td>2008</td>\n",
       "      <td>0</td>\n",
       "      <td>59</td>\n",
       "      <td>1495.3258</td>\n",
       "      <td>6</td>\n",
       "      <td>1392.2981</td>\n",
       "      <td>40.791542</td>\n",
       "      <td>0.762914</td>\n",
       "      <td>1</td>\n",
       "    </tr>\n",
       "    <tr>\n",
       "      <td>3</td>\n",
       "      <td>1984</td>\n",
       "      <td>0</td>\n",
       "      <td>58</td>\n",
       "      <td>1602.1180</td>\n",
       "      <td>11</td>\n",
       "      <td>1528.8450</td>\n",
       "      <td>52.006989</td>\n",
       "      <td>0.730555</td>\n",
       "      <td>4</td>\n",
       "    </tr>\n",
       "    <tr>\n",
       "      <td>4</td>\n",
       "      <td>1977</td>\n",
       "      <td>0</td>\n",
       "      <td>23</td>\n",
       "      <td>1481.2228</td>\n",
       "      <td>4</td>\n",
       "      <td>1571.5261</td>\n",
       "      <td>41.047476</td>\n",
       "      <td>0.513951</td>\n",
       "      <td>4</td>\n",
       "    </tr>\n",
       "  </tbody>\n",
       "</table>\n",
       "</div>"
      ],
      "text/plain": [
       "   season_end  playoff  team_id        Elo  opp_team_id    opp_Elo  \\\n",
       "0        2006        0        6  1452.0272            4  1467.3956   \n",
       "1        2015        0        7  1498.2162            1  1283.8668   \n",
       "2        2008        0       59  1495.3258            6  1392.2981   \n",
       "3        1984        0       58  1602.1180           11  1528.8450   \n",
       "4        1977        0       23  1481.2228            4  1571.5261   \n",
       "\n",
       "   win_equivalent  bet_ratio  dayofweek  \n",
       "0       36.577610   0.619442          2  \n",
       "1       40.762897   0.859306          2  \n",
       "2       40.791542   0.762914          1  \n",
       "3       52.006989   0.730555          4  \n",
       "4       41.047476   0.513951          4  "
      ]
     },
     "execution_count": 639,
     "metadata": {},
     "output_type": "execute_result"
    }
   ],
   "source": [
    "test.head()"
   ]
  },
  {
   "cell_type": "code",
   "execution_count": 640,
   "metadata": {},
   "outputs": [],
   "source": [
    "# scaler=StandardScaler()\n",
    "# test = scaler.transform(test)"
   ]
  },
  {
   "cell_type": "code",
   "execution_count": 641,
   "metadata": {},
   "outputs": [],
   "source": [
    "prediction_test=lr.predict(test)"
   ]
  },
  {
   "cell_type": "code",
   "execution_count": 642,
   "metadata": {},
   "outputs": [],
   "source": [
    "prediction_test=prediction_test.astype(int)"
   ]
  },
  {
   "cell_type": "code",
   "execution_count": 643,
   "metadata": {},
   "outputs": [
    {
     "name": "stdout",
     "output_type": "stream",
     "text": [
      "(13107, 1)\n"
     ]
    }
   ],
   "source": [
    "my_solution=pd.DataFrame(prediction_test,Id,columns=[\"game_result\"])\n",
    "print(my_solution.shape)"
   ]
  },
  {
   "cell_type": "code",
   "execution_count": 644,
   "metadata": {},
   "outputs": [],
   "source": [
    "my_solution.to_csv(\"result.csv\",index_label=[\"Id\"])"
   ]
  },
  {
   "cell_type": "code",
   "execution_count": 645,
   "metadata": {},
   "outputs": [
    {
     "data": {
      "text/plain": [
       "0    8761\n",
       "1    4346\n",
       "Name: game_result, dtype: int64"
      ]
     },
     "execution_count": 645,
     "metadata": {},
     "output_type": "execute_result"
    }
   ],
   "source": [
    "my_solution['game_result'].value_counts()"
   ]
  },
  {
   "cell_type": "code",
   "execution_count": null,
   "metadata": {},
   "outputs": [],
   "source": []
  }
 ],
 "metadata": {
  "kernelspec": {
   "display_name": "Python 3",
   "language": "python",
   "name": "python3"
  },
  "language_info": {
   "codemirror_mode": {
    "name": "ipython",
    "version": 3
   },
   "file_extension": ".py",
   "mimetype": "text/x-python",
   "name": "python",
   "nbconvert_exporter": "python",
   "pygments_lexer": "ipython3",
   "version": "3.7.4"
  }
 },
 "nbformat": 4,
 "nbformat_minor": 2
}
